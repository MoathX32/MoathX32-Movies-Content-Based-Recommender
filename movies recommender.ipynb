{
 "cells": [
  {
   "cell_type": "markdown",
   "id": "e7aef50f",
   "metadata": {
    "papermill": {
     "duration": 0.04178,
     "end_time": "2021-11-16T20:24:52.999444",
     "exception": false,
     "start_time": "2021-11-16T20:24:52.957664",
     "status": "completed"
    },
    "tags": []
   },
   "source": [
    "# **What are Content Recommender Systems?**\n",
    "According to Wikipedia:\n",
    "\n",
    "“Recommender systems or recommendation systems (sometimes replacing “system” with a synonym such as platform or engine) are a subclass of information filtering system that seek to predict the ‘rating’ or ‘preference’ that user would give to an item.”"
   ]
  },
  {
   "cell_type": "markdown",
   "id": "ba53e8bf",
   "metadata": {
    "papermill": {
     "duration": 0.040889,
     "end_time": "2021-11-16T20:24:53.083003",
     "exception": false,
     "start_time": "2021-11-16T20:24:53.042114",
     "status": "completed"
    },
    "tags": []
   },
   "source": [
    "![](https://image.slidesharecdn.com/contentbasedfiltering-140722025107-phpapp01/95/content-based-filtering-1-638.jpg?cb=1405998926)"
   ]
  },
  {
   "cell_type": "markdown",
   "id": "db0372dc",
   "metadata": {
    "papermill": {
     "duration": 0.040374,
     "end_time": "2021-11-16T20:24:53.164379",
     "exception": false,
     "start_time": "2021-11-16T20:24:53.124005",
     "status": "completed"
    },
    "tags": []
   },
   "source": [
    "# **TMDB**\n",
    "The Movie Database, also known as TMDB, is a database that contains detailed information on over 500,000 movies. The Movies dataframe has links to the movie posters in it, but the vast majority of them are outdated and no longer work. In order to find the poster links, the tmdbsimple library, which acts as a Python wrapper for the TMDB API was used. The ID of the movie is all that it takes to obtain that movie's updated information. The TMDB website has a simple structure to its URLs, therefore getting the link to each movie's page involves taking the base site link and adding the id of the movie, a dash, and the movie title."
   ]
  },
  {
   "cell_type": "markdown",
   "id": "55c9cc45",
   "metadata": {
    "papermill": {
     "duration": 0.041798,
     "end_time": "2021-11-16T20:24:53.246944",
     "exception": false,
     "start_time": "2021-11-16T20:24:53.205146",
     "status": "completed"
    },
    "tags": []
   },
   "source": [
    "![](http://miro.medium.com/max/8174/1*y1D9OyNtARhP0jrVmvULTw.jpeg)"
   ]
  },
  {
   "cell_type": "markdown",
   "id": "ae07a7a9",
   "metadata": {
    "papermill": {
     "duration": 0.039478,
     "end_time": "2021-11-16T20:24:53.327183",
     "exception": false,
     "start_time": "2021-11-16T20:24:53.287705",
     "status": "completed"
    },
    "tags": []
   },
   "source": [
    "# **Loading Libraries and Data**"
   ]
  },
  {
   "cell_type": "code",
   "execution_count": 1,
   "id": "04906e86",
   "metadata": {
    "execution": {
     "iopub.execute_input": "2021-11-16T20:24:53.412201Z",
     "iopub.status.busy": "2021-11-16T20:24:53.410997Z",
     "iopub.status.idle": "2021-11-16T20:24:54.524396Z",
     "shell.execute_reply": "2021-11-16T20:24:54.524940Z",
     "shell.execute_reply.started": "2021-11-16T20:16:50.713176Z"
    },
    "papermill": {
     "duration": 1.158045,
     "end_time": "2021-11-16T20:24:54.525268",
     "exception": false,
     "start_time": "2021-11-16T20:24:53.367223",
     "status": "completed"
    },
    "tags": []
   },
   "outputs": [],
   "source": [
    "import numpy as np\n",
    "import pandas as pd\n",
    "import seaborn as sns \n",
    "from sklearn.feature_extraction.text import TfidfVectorizer\n",
    "from sklearn.metrics.pairwise import cosine_similarity\n",
    "import ast\n",
    "import pickle"
   ]
  },
  {
   "cell_type": "code",
   "execution_count": 2,
   "id": "ccbc7d13",
   "metadata": {
    "execution": {
     "iopub.execute_input": "2021-11-16T20:24:54.609468Z",
     "iopub.status.busy": "2021-11-16T20:24:54.608806Z",
     "iopub.status.idle": "2021-11-16T20:24:55.613799Z",
     "shell.execute_reply": "2021-11-16T20:24:55.612675Z",
     "shell.execute_reply.started": "2021-11-16T20:16:50.720975Z"
    },
    "papermill": {
     "duration": 1.048183,
     "end_time": "2021-11-16T20:24:55.613970",
     "exception": false,
     "start_time": "2021-11-16T20:24:54.565787",
     "status": "completed"
    },
    "tags": []
   },
   "outputs": [],
   "source": [
    "'''load training dataset'''\n",
    "movies = pd.read_csv('../input/tmdb-movie-metadata/tmdb_5000_movies.csv')\n",
    "credits = pd.read_csv('../input/tmdb-movie-metadata/tmdb_5000_credits.csv') "
   ]
  },
  {
   "cell_type": "code",
   "execution_count": 3,
   "id": "5ef115b0",
   "metadata": {
    "execution": {
     "iopub.execute_input": "2021-11-16T20:24:55.762917Z",
     "iopub.status.busy": "2021-11-16T20:24:55.762092Z",
     "iopub.status.idle": "2021-11-16T20:24:55.787076Z",
     "shell.execute_reply": "2021-11-16T20:24:55.787622Z",
     "shell.execute_reply.started": "2021-11-16T20:16:51.435034Z"
    },
    "papermill": {
     "duration": 0.133772,
     "end_time": "2021-11-16T20:24:55.787799",
     "exception": false,
     "start_time": "2021-11-16T20:24:55.654027",
     "status": "completed"
    },
    "tags": []
   },
   "outputs": [
    {
     "data": {
      "text/html": [
       "<div>\n",
       "<style scoped>\n",
       "    .dataframe tbody tr th:only-of-type {\n",
       "        vertical-align: middle;\n",
       "    }\n",
       "\n",
       "    .dataframe tbody tr th {\n",
       "        vertical-align: top;\n",
       "    }\n",
       "\n",
       "    .dataframe thead th {\n",
       "        text-align: right;\n",
       "    }\n",
       "</style>\n",
       "<table border=\"1\" class=\"dataframe\">\n",
       "  <thead>\n",
       "    <tr style=\"text-align: right;\">\n",
       "      <th></th>\n",
       "      <th>budget</th>\n",
       "      <th>genres</th>\n",
       "      <th>homepage</th>\n",
       "      <th>id</th>\n",
       "      <th>keywords</th>\n",
       "      <th>original_language</th>\n",
       "      <th>original_title</th>\n",
       "      <th>overview</th>\n",
       "      <th>popularity</th>\n",
       "      <th>production_companies</th>\n",
       "      <th>production_countries</th>\n",
       "      <th>release_date</th>\n",
       "      <th>revenue</th>\n",
       "      <th>runtime</th>\n",
       "      <th>spoken_languages</th>\n",
       "      <th>status</th>\n",
       "      <th>tagline</th>\n",
       "      <th>title</th>\n",
       "      <th>vote_average</th>\n",
       "      <th>vote_count</th>\n",
       "    </tr>\n",
       "  </thead>\n",
       "  <tbody>\n",
       "    <tr>\n",
       "      <th>0</th>\n",
       "      <td>237000000</td>\n",
       "      <td>[{\"id\": 28, \"name\": \"Action\"}, {\"id\": 12, \"nam...</td>\n",
       "      <td>http://www.avatarmovie.com/</td>\n",
       "      <td>19995</td>\n",
       "      <td>[{\"id\": 1463, \"name\": \"culture clash\"}, {\"id\":...</td>\n",
       "      <td>en</td>\n",
       "      <td>Avatar</td>\n",
       "      <td>In the 22nd century, a paraplegic Marine is di...</td>\n",
       "      <td>150.437577</td>\n",
       "      <td>[{\"name\": \"Ingenious Film Partners\", \"id\": 289...</td>\n",
       "      <td>[{\"iso_3166_1\": \"US\", \"name\": \"United States o...</td>\n",
       "      <td>2009-12-10</td>\n",
       "      <td>2787965087</td>\n",
       "      <td>162.0</td>\n",
       "      <td>[{\"iso_639_1\": \"en\", \"name\": \"English\"}, {\"iso...</td>\n",
       "      <td>Released</td>\n",
       "      <td>Enter the World of Pandora.</td>\n",
       "      <td>Avatar</td>\n",
       "      <td>7.2</td>\n",
       "      <td>11800</td>\n",
       "    </tr>\n",
       "    <tr>\n",
       "      <th>1</th>\n",
       "      <td>300000000</td>\n",
       "      <td>[{\"id\": 12, \"name\": \"Adventure\"}, {\"id\": 14, \"...</td>\n",
       "      <td>http://disney.go.com/disneypictures/pirates/</td>\n",
       "      <td>285</td>\n",
       "      <td>[{\"id\": 270, \"name\": \"ocean\"}, {\"id\": 726, \"na...</td>\n",
       "      <td>en</td>\n",
       "      <td>Pirates of the Caribbean: At World's End</td>\n",
       "      <td>Captain Barbossa, long believed to be dead, ha...</td>\n",
       "      <td>139.082615</td>\n",
       "      <td>[{\"name\": \"Walt Disney Pictures\", \"id\": 2}, {\"...</td>\n",
       "      <td>[{\"iso_3166_1\": \"US\", \"name\": \"United States o...</td>\n",
       "      <td>2007-05-19</td>\n",
       "      <td>961000000</td>\n",
       "      <td>169.0</td>\n",
       "      <td>[{\"iso_639_1\": \"en\", \"name\": \"English\"}]</td>\n",
       "      <td>Released</td>\n",
       "      <td>At the end of the world, the adventure begins.</td>\n",
       "      <td>Pirates of the Caribbean: At World's End</td>\n",
       "      <td>6.9</td>\n",
       "      <td>4500</td>\n",
       "    </tr>\n",
       "  </tbody>\n",
       "</table>\n",
       "</div>"
      ],
      "text/plain": [
       "      budget                                             genres  \\\n",
       "0  237000000  [{\"id\": 28, \"name\": \"Action\"}, {\"id\": 12, \"nam...   \n",
       "1  300000000  [{\"id\": 12, \"name\": \"Adventure\"}, {\"id\": 14, \"...   \n",
       "\n",
       "                                       homepage     id  \\\n",
       "0                   http://www.avatarmovie.com/  19995   \n",
       "1  http://disney.go.com/disneypictures/pirates/    285   \n",
       "\n",
       "                                            keywords original_language  \\\n",
       "0  [{\"id\": 1463, \"name\": \"culture clash\"}, {\"id\":...                en   \n",
       "1  [{\"id\": 270, \"name\": \"ocean\"}, {\"id\": 726, \"na...                en   \n",
       "\n",
       "                             original_title  \\\n",
       "0                                    Avatar   \n",
       "1  Pirates of the Caribbean: At World's End   \n",
       "\n",
       "                                            overview  popularity  \\\n",
       "0  In the 22nd century, a paraplegic Marine is di...  150.437577   \n",
       "1  Captain Barbossa, long believed to be dead, ha...  139.082615   \n",
       "\n",
       "                                production_companies  \\\n",
       "0  [{\"name\": \"Ingenious Film Partners\", \"id\": 289...   \n",
       "1  [{\"name\": \"Walt Disney Pictures\", \"id\": 2}, {\"...   \n",
       "\n",
       "                                production_countries release_date     revenue  \\\n",
       "0  [{\"iso_3166_1\": \"US\", \"name\": \"United States o...   2009-12-10  2787965087   \n",
       "1  [{\"iso_3166_1\": \"US\", \"name\": \"United States o...   2007-05-19   961000000   \n",
       "\n",
       "   runtime                                   spoken_languages    status  \\\n",
       "0    162.0  [{\"iso_639_1\": \"en\", \"name\": \"English\"}, {\"iso...  Released   \n",
       "1    169.0           [{\"iso_639_1\": \"en\", \"name\": \"English\"}]  Released   \n",
       "\n",
       "                                          tagline  \\\n",
       "0                     Enter the World of Pandora.   \n",
       "1  At the end of the world, the adventure begins.   \n",
       "\n",
       "                                      title  vote_average  vote_count  \n",
       "0                                    Avatar           7.2       11800  \n",
       "1  Pirates of the Caribbean: At World's End           6.9        4500  "
      ]
     },
     "execution_count": 3,
     "metadata": {},
     "output_type": "execute_result"
    }
   ],
   "source": [
    "movies.head(2)"
   ]
  },
  {
   "cell_type": "code",
   "execution_count": 4,
   "id": "fa1a0aa5",
   "metadata": {
    "execution": {
     "iopub.execute_input": "2021-11-16T20:24:55.876125Z",
     "iopub.status.busy": "2021-11-16T20:24:55.875093Z",
     "iopub.status.idle": "2021-11-16T20:24:55.885341Z",
     "shell.execute_reply": "2021-11-16T20:24:55.885813Z",
     "shell.execute_reply.started": "2021-11-16T20:16:51.456103Z"
    },
    "papermill": {
     "duration": 0.056106,
     "end_time": "2021-11-16T20:24:55.886007",
     "exception": false,
     "start_time": "2021-11-16T20:24:55.829901",
     "status": "completed"
    },
    "tags": []
   },
   "outputs": [
    {
     "data": {
      "text/html": [
       "<div>\n",
       "<style scoped>\n",
       "    .dataframe tbody tr th:only-of-type {\n",
       "        vertical-align: middle;\n",
       "    }\n",
       "\n",
       "    .dataframe tbody tr th {\n",
       "        vertical-align: top;\n",
       "    }\n",
       "\n",
       "    .dataframe thead th {\n",
       "        text-align: right;\n",
       "    }\n",
       "</style>\n",
       "<table border=\"1\" class=\"dataframe\">\n",
       "  <thead>\n",
       "    <tr style=\"text-align: right;\">\n",
       "      <th></th>\n",
       "      <th>movie_id</th>\n",
       "      <th>title</th>\n",
       "      <th>cast</th>\n",
       "      <th>crew</th>\n",
       "    </tr>\n",
       "  </thead>\n",
       "  <tbody>\n",
       "    <tr>\n",
       "      <th>0</th>\n",
       "      <td>19995</td>\n",
       "      <td>Avatar</td>\n",
       "      <td>[{\"cast_id\": 242, \"character\": \"Jake Sully\", \"...</td>\n",
       "      <td>[{\"credit_id\": \"52fe48009251416c750aca23\", \"de...</td>\n",
       "    </tr>\n",
       "    <tr>\n",
       "      <th>1</th>\n",
       "      <td>285</td>\n",
       "      <td>Pirates of the Caribbean: At World's End</td>\n",
       "      <td>[{\"cast_id\": 4, \"character\": \"Captain Jack Spa...</td>\n",
       "      <td>[{\"credit_id\": \"52fe4232c3a36847f800b579\", \"de...</td>\n",
       "    </tr>\n",
       "  </tbody>\n",
       "</table>\n",
       "</div>"
      ],
      "text/plain": [
       "   movie_id                                     title  \\\n",
       "0     19995                                    Avatar   \n",
       "1       285  Pirates of the Caribbean: At World's End   \n",
       "\n",
       "                                                cast  \\\n",
       "0  [{\"cast_id\": 242, \"character\": \"Jake Sully\", \"...   \n",
       "1  [{\"cast_id\": 4, \"character\": \"Captain Jack Spa...   \n",
       "\n",
       "                                                crew  \n",
       "0  [{\"credit_id\": \"52fe48009251416c750aca23\", \"de...  \n",
       "1  [{\"credit_id\": \"52fe4232c3a36847f800b579\", \"de...  "
      ]
     },
     "execution_count": 4,
     "metadata": {},
     "output_type": "execute_result"
    }
   ],
   "source": [
    "credits.head(2)"
   ]
  },
  {
   "cell_type": "markdown",
   "id": "8c827c4e",
   "metadata": {
    "papermill": {
     "duration": 0.04142,
     "end_time": "2021-11-16T20:24:55.969535",
     "exception": false,
     "start_time": "2021-11-16T20:24:55.928115",
     "status": "completed"
    },
    "tags": []
   },
   "source": [
    "**Aggregate data into a single file**"
   ]
  },
  {
   "cell_type": "code",
   "execution_count": 5,
   "id": "9bce1b1d",
   "metadata": {
    "execution": {
     "iopub.execute_input": "2021-11-16T20:24:56.057433Z",
     "iopub.status.busy": "2021-11-16T20:24:56.056432Z",
     "iopub.status.idle": "2021-11-16T20:24:56.107669Z",
     "shell.execute_reply": "2021-11-16T20:24:56.108205Z",
     "shell.execute_reply.started": "2021-11-16T20:16:51.467263Z"
    },
    "papermill": {
     "duration": 0.09686,
     "end_time": "2021-11-16T20:24:56.108396",
     "exception": false,
     "start_time": "2021-11-16T20:24:56.011536",
     "status": "completed"
    },
    "tags": []
   },
   "outputs": [
    {
     "data": {
      "text/html": [
       "<div>\n",
       "<style scoped>\n",
       "    .dataframe tbody tr th:only-of-type {\n",
       "        vertical-align: middle;\n",
       "    }\n",
       "\n",
       "    .dataframe tbody tr th {\n",
       "        vertical-align: top;\n",
       "    }\n",
       "\n",
       "    .dataframe thead th {\n",
       "        text-align: right;\n",
       "    }\n",
       "</style>\n",
       "<table border=\"1\" class=\"dataframe\">\n",
       "  <thead>\n",
       "    <tr style=\"text-align: right;\">\n",
       "      <th></th>\n",
       "      <th>budget</th>\n",
       "      <th>genres</th>\n",
       "      <th>homepage</th>\n",
       "      <th>id</th>\n",
       "      <th>keywords</th>\n",
       "      <th>original_language</th>\n",
       "      <th>original_title</th>\n",
       "      <th>overview</th>\n",
       "      <th>popularity</th>\n",
       "      <th>production_companies</th>\n",
       "      <th>...</th>\n",
       "      <th>runtime</th>\n",
       "      <th>spoken_languages</th>\n",
       "      <th>status</th>\n",
       "      <th>tagline</th>\n",
       "      <th>title</th>\n",
       "      <th>vote_average</th>\n",
       "      <th>vote_count</th>\n",
       "      <th>movie_id</th>\n",
       "      <th>cast</th>\n",
       "      <th>crew</th>\n",
       "    </tr>\n",
       "  </thead>\n",
       "  <tbody>\n",
       "    <tr>\n",
       "      <th>0</th>\n",
       "      <td>237000000</td>\n",
       "      <td>[{\"id\": 28, \"name\": \"Action\"}, {\"id\": 12, \"nam...</td>\n",
       "      <td>http://www.avatarmovie.com/</td>\n",
       "      <td>19995</td>\n",
       "      <td>[{\"id\": 1463, \"name\": \"culture clash\"}, {\"id\":...</td>\n",
       "      <td>en</td>\n",
       "      <td>Avatar</td>\n",
       "      <td>In the 22nd century, a paraplegic Marine is di...</td>\n",
       "      <td>150.437577</td>\n",
       "      <td>[{\"name\": \"Ingenious Film Partners\", \"id\": 289...</td>\n",
       "      <td>...</td>\n",
       "      <td>162.0</td>\n",
       "      <td>[{\"iso_639_1\": \"en\", \"name\": \"English\"}, {\"iso...</td>\n",
       "      <td>Released</td>\n",
       "      <td>Enter the World of Pandora.</td>\n",
       "      <td>Avatar</td>\n",
       "      <td>7.2</td>\n",
       "      <td>11800</td>\n",
       "      <td>19995</td>\n",
       "      <td>[{\"cast_id\": 242, \"character\": \"Jake Sully\", \"...</td>\n",
       "      <td>[{\"credit_id\": \"52fe48009251416c750aca23\", \"de...</td>\n",
       "    </tr>\n",
       "    <tr>\n",
       "      <th>1</th>\n",
       "      <td>300000000</td>\n",
       "      <td>[{\"id\": 12, \"name\": \"Adventure\"}, {\"id\": 14, \"...</td>\n",
       "      <td>http://disney.go.com/disneypictures/pirates/</td>\n",
       "      <td>285</td>\n",
       "      <td>[{\"id\": 270, \"name\": \"ocean\"}, {\"id\": 726, \"na...</td>\n",
       "      <td>en</td>\n",
       "      <td>Pirates of the Caribbean: At World's End</td>\n",
       "      <td>Captain Barbossa, long believed to be dead, ha...</td>\n",
       "      <td>139.082615</td>\n",
       "      <td>[{\"name\": \"Walt Disney Pictures\", \"id\": 2}, {\"...</td>\n",
       "      <td>...</td>\n",
       "      <td>169.0</td>\n",
       "      <td>[{\"iso_639_1\": \"en\", \"name\": \"English\"}]</td>\n",
       "      <td>Released</td>\n",
       "      <td>At the end of the world, the adventure begins.</td>\n",
       "      <td>Pirates of the Caribbean: At World's End</td>\n",
       "      <td>6.9</td>\n",
       "      <td>4500</td>\n",
       "      <td>285</td>\n",
       "      <td>[{\"cast_id\": 4, \"character\": \"Captain Jack Spa...</td>\n",
       "      <td>[{\"credit_id\": \"52fe4232c3a36847f800b579\", \"de...</td>\n",
       "    </tr>\n",
       "    <tr>\n",
       "      <th>2</th>\n",
       "      <td>245000000</td>\n",
       "      <td>[{\"id\": 28, \"name\": \"Action\"}, {\"id\": 12, \"nam...</td>\n",
       "      <td>http://www.sonypictures.com/movies/spectre/</td>\n",
       "      <td>206647</td>\n",
       "      <td>[{\"id\": 470, \"name\": \"spy\"}, {\"id\": 818, \"name...</td>\n",
       "      <td>en</td>\n",
       "      <td>Spectre</td>\n",
       "      <td>A cryptic message from Bond’s past sends him o...</td>\n",
       "      <td>107.376788</td>\n",
       "      <td>[{\"name\": \"Columbia Pictures\", \"id\": 5}, {\"nam...</td>\n",
       "      <td>...</td>\n",
       "      <td>148.0</td>\n",
       "      <td>[{\"iso_639_1\": \"fr\", \"name\": \"Fran\\u00e7ais\"},...</td>\n",
       "      <td>Released</td>\n",
       "      <td>A Plan No One Escapes</td>\n",
       "      <td>Spectre</td>\n",
       "      <td>6.3</td>\n",
       "      <td>4466</td>\n",
       "      <td>206647</td>\n",
       "      <td>[{\"cast_id\": 1, \"character\": \"James Bond\", \"cr...</td>\n",
       "      <td>[{\"credit_id\": \"54805967c3a36829b5002c41\", \"de...</td>\n",
       "    </tr>\n",
       "  </tbody>\n",
       "</table>\n",
       "<p>3 rows × 23 columns</p>\n",
       "</div>"
      ],
      "text/plain": [
       "      budget                                             genres  \\\n",
       "0  237000000  [{\"id\": 28, \"name\": \"Action\"}, {\"id\": 12, \"nam...   \n",
       "1  300000000  [{\"id\": 12, \"name\": \"Adventure\"}, {\"id\": 14, \"...   \n",
       "2  245000000  [{\"id\": 28, \"name\": \"Action\"}, {\"id\": 12, \"nam...   \n",
       "\n",
       "                                       homepage      id  \\\n",
       "0                   http://www.avatarmovie.com/   19995   \n",
       "1  http://disney.go.com/disneypictures/pirates/     285   \n",
       "2   http://www.sonypictures.com/movies/spectre/  206647   \n",
       "\n",
       "                                            keywords original_language  \\\n",
       "0  [{\"id\": 1463, \"name\": \"culture clash\"}, {\"id\":...                en   \n",
       "1  [{\"id\": 270, \"name\": \"ocean\"}, {\"id\": 726, \"na...                en   \n",
       "2  [{\"id\": 470, \"name\": \"spy\"}, {\"id\": 818, \"name...                en   \n",
       "\n",
       "                             original_title  \\\n",
       "0                                    Avatar   \n",
       "1  Pirates of the Caribbean: At World's End   \n",
       "2                                   Spectre   \n",
       "\n",
       "                                            overview  popularity  \\\n",
       "0  In the 22nd century, a paraplegic Marine is di...  150.437577   \n",
       "1  Captain Barbossa, long believed to be dead, ha...  139.082615   \n",
       "2  A cryptic message from Bond’s past sends him o...  107.376788   \n",
       "\n",
       "                                production_companies  ... runtime  \\\n",
       "0  [{\"name\": \"Ingenious Film Partners\", \"id\": 289...  ...   162.0   \n",
       "1  [{\"name\": \"Walt Disney Pictures\", \"id\": 2}, {\"...  ...   169.0   \n",
       "2  [{\"name\": \"Columbia Pictures\", \"id\": 5}, {\"nam...  ...   148.0   \n",
       "\n",
       "                                    spoken_languages    status  \\\n",
       "0  [{\"iso_639_1\": \"en\", \"name\": \"English\"}, {\"iso...  Released   \n",
       "1           [{\"iso_639_1\": \"en\", \"name\": \"English\"}]  Released   \n",
       "2  [{\"iso_639_1\": \"fr\", \"name\": \"Fran\\u00e7ais\"},...  Released   \n",
       "\n",
       "                                          tagline  \\\n",
       "0                     Enter the World of Pandora.   \n",
       "1  At the end of the world, the adventure begins.   \n",
       "2                           A Plan No One Escapes   \n",
       "\n",
       "                                      title vote_average vote_count movie_id  \\\n",
       "0                                    Avatar          7.2      11800    19995   \n",
       "1  Pirates of the Caribbean: At World's End          6.9       4500      285   \n",
       "2                                   Spectre          6.3       4466   206647   \n",
       "\n",
       "                                                cast  \\\n",
       "0  [{\"cast_id\": 242, \"character\": \"Jake Sully\", \"...   \n",
       "1  [{\"cast_id\": 4, \"character\": \"Captain Jack Spa...   \n",
       "2  [{\"cast_id\": 1, \"character\": \"James Bond\", \"cr...   \n",
       "\n",
       "                                                crew  \n",
       "0  [{\"credit_id\": \"52fe48009251416c750aca23\", \"de...  \n",
       "1  [{\"credit_id\": \"52fe4232c3a36847f800b579\", \"de...  \n",
       "2  [{\"credit_id\": \"54805967c3a36829b5002c41\", \"de...  \n",
       "\n",
       "[3 rows x 23 columns]"
      ]
     },
     "execution_count": 5,
     "metadata": {},
     "output_type": "execute_result"
    }
   ],
   "source": [
    "movies = movies.merge(credits,on='title')\n",
    "movies.head(3)"
   ]
  },
  {
   "cell_type": "code",
   "execution_count": 6,
   "id": "dcbcdeda",
   "metadata": {
    "execution": {
     "iopub.execute_input": "2021-11-16T20:24:56.198960Z",
     "iopub.status.busy": "2021-11-16T20:24:56.198016Z",
     "iopub.status.idle": "2021-11-16T20:24:56.201310Z",
     "shell.execute_reply": "2021-11-16T20:24:56.201795Z",
     "shell.execute_reply.started": "2021-11-16T20:16:51.513160Z"
    },
    "papermill": {
     "duration": 0.051249,
     "end_time": "2021-11-16T20:24:56.201979",
     "exception": false,
     "start_time": "2021-11-16T20:24:56.150730",
     "status": "completed"
    },
    "tags": []
   },
   "outputs": [
    {
     "data": {
      "text/plain": [
       "(4809, 23)"
      ]
     },
     "execution_count": 6,
     "metadata": {},
     "output_type": "execute_result"
    }
   ],
   "source": [
    "movies.shape"
   ]
  },
  {
   "cell_type": "markdown",
   "id": "cbfdea2b",
   "metadata": {
    "papermill": {
     "duration": 0.042171,
     "end_time": "2021-11-16T20:24:56.287570",
     "exception": false,
     "start_time": "2021-11-16T20:24:56.245399",
     "status": "completed"
    },
    "tags": []
   },
   "source": [
    "**select useful feature **"
   ]
  },
  {
   "cell_type": "markdown",
   "id": "1d0c62bb",
   "metadata": {
    "papermill": {
     "duration": 0.041831,
     "end_time": "2021-11-16T20:24:56.371752",
     "exception": false,
     "start_time": "2021-11-16T20:24:56.329921",
     "status": "completed"
    },
    "tags": []
   },
   "source": [
    "**I will select: **\n",
    "1. movie_id\n",
    "2. title\n",
    "3. overview\n",
    "4. genres\n",
    "5. keywords\n",
    "6. cast\n",
    "7. crew"
   ]
  },
  {
   "cell_type": "code",
   "execution_count": 7,
   "id": "986aabd6",
   "metadata": {
    "execution": {
     "iopub.execute_input": "2021-11-16T20:24:56.462891Z",
     "iopub.status.busy": "2021-11-16T20:24:56.461834Z",
     "iopub.status.idle": "2021-11-16T20:24:56.478037Z",
     "shell.execute_reply": "2021-11-16T20:24:56.477426Z",
     "shell.execute_reply.started": "2021-11-16T20:16:51.519335Z"
    },
    "papermill": {
     "duration": 0.064128,
     "end_time": "2021-11-16T20:24:56.478187",
     "exception": false,
     "start_time": "2021-11-16T20:24:56.414059",
     "status": "completed"
    },
    "tags": []
   },
   "outputs": [
    {
     "data": {
      "text/html": [
       "<div>\n",
       "<style scoped>\n",
       "    .dataframe tbody tr th:only-of-type {\n",
       "        vertical-align: middle;\n",
       "    }\n",
       "\n",
       "    .dataframe tbody tr th {\n",
       "        vertical-align: top;\n",
       "    }\n",
       "\n",
       "    .dataframe thead th {\n",
       "        text-align: right;\n",
       "    }\n",
       "</style>\n",
       "<table border=\"1\" class=\"dataframe\">\n",
       "  <thead>\n",
       "    <tr style=\"text-align: right;\">\n",
       "      <th></th>\n",
       "      <th>movie_id</th>\n",
       "      <th>title</th>\n",
       "      <th>overview</th>\n",
       "      <th>genres</th>\n",
       "      <th>keywords</th>\n",
       "      <th>cast</th>\n",
       "      <th>crew</th>\n",
       "    </tr>\n",
       "  </thead>\n",
       "  <tbody>\n",
       "    <tr>\n",
       "      <th>0</th>\n",
       "      <td>19995</td>\n",
       "      <td>Avatar</td>\n",
       "      <td>In the 22nd century, a paraplegic Marine is di...</td>\n",
       "      <td>[{\"id\": 28, \"name\": \"Action\"}, {\"id\": 12, \"nam...</td>\n",
       "      <td>[{\"id\": 1463, \"name\": \"culture clash\"}, {\"id\":...</td>\n",
       "      <td>[{\"cast_id\": 242, \"character\": \"Jake Sully\", \"...</td>\n",
       "      <td>[{\"credit_id\": \"52fe48009251416c750aca23\", \"de...</td>\n",
       "    </tr>\n",
       "    <tr>\n",
       "      <th>1</th>\n",
       "      <td>285</td>\n",
       "      <td>Pirates of the Caribbean: At World's End</td>\n",
       "      <td>Captain Barbossa, long believed to be dead, ha...</td>\n",
       "      <td>[{\"id\": 12, \"name\": \"Adventure\"}, {\"id\": 14, \"...</td>\n",
       "      <td>[{\"id\": 270, \"name\": \"ocean\"}, {\"id\": 726, \"na...</td>\n",
       "      <td>[{\"cast_id\": 4, \"character\": \"Captain Jack Spa...</td>\n",
       "      <td>[{\"credit_id\": \"52fe4232c3a36847f800b579\", \"de...</td>\n",
       "    </tr>\n",
       "    <tr>\n",
       "      <th>2</th>\n",
       "      <td>206647</td>\n",
       "      <td>Spectre</td>\n",
       "      <td>A cryptic message from Bond’s past sends him o...</td>\n",
       "      <td>[{\"id\": 28, \"name\": \"Action\"}, {\"id\": 12, \"nam...</td>\n",
       "      <td>[{\"id\": 470, \"name\": \"spy\"}, {\"id\": 818, \"name...</td>\n",
       "      <td>[{\"cast_id\": 1, \"character\": \"James Bond\", \"cr...</td>\n",
       "      <td>[{\"credit_id\": \"54805967c3a36829b5002c41\", \"de...</td>\n",
       "    </tr>\n",
       "  </tbody>\n",
       "</table>\n",
       "</div>"
      ],
      "text/plain": [
       "   movie_id                                     title  \\\n",
       "0     19995                                    Avatar   \n",
       "1       285  Pirates of the Caribbean: At World's End   \n",
       "2    206647                                   Spectre   \n",
       "\n",
       "                                            overview  \\\n",
       "0  In the 22nd century, a paraplegic Marine is di...   \n",
       "1  Captain Barbossa, long believed to be dead, ha...   \n",
       "2  A cryptic message from Bond’s past sends him o...   \n",
       "\n",
       "                                              genres  \\\n",
       "0  [{\"id\": 28, \"name\": \"Action\"}, {\"id\": 12, \"nam...   \n",
       "1  [{\"id\": 12, \"name\": \"Adventure\"}, {\"id\": 14, \"...   \n",
       "2  [{\"id\": 28, \"name\": \"Action\"}, {\"id\": 12, \"nam...   \n",
       "\n",
       "                                            keywords  \\\n",
       "0  [{\"id\": 1463, \"name\": \"culture clash\"}, {\"id\":...   \n",
       "1  [{\"id\": 270, \"name\": \"ocean\"}, {\"id\": 726, \"na...   \n",
       "2  [{\"id\": 470, \"name\": \"spy\"}, {\"id\": 818, \"name...   \n",
       "\n",
       "                                                cast  \\\n",
       "0  [{\"cast_id\": 242, \"character\": \"Jake Sully\", \"...   \n",
       "1  [{\"cast_id\": 4, \"character\": \"Captain Jack Spa...   \n",
       "2  [{\"cast_id\": 1, \"character\": \"James Bond\", \"cr...   \n",
       "\n",
       "                                                crew  \n",
       "0  [{\"credit_id\": \"52fe48009251416c750aca23\", \"de...  \n",
       "1  [{\"credit_id\": \"52fe4232c3a36847f800b579\", \"de...  \n",
       "2  [{\"credit_id\": \"54805967c3a36829b5002c41\", \"de...  "
      ]
     },
     "execution_count": 7,
     "metadata": {},
     "output_type": "execute_result"
    }
   ],
   "source": [
    "movies = movies[['movie_id','title','overview','genres','keywords','cast','crew']]\n",
    "movies.head(3)"
   ]
  },
  {
   "cell_type": "code",
   "execution_count": 8,
   "id": "ad61a606",
   "metadata": {
    "execution": {
     "iopub.execute_input": "2021-11-16T20:24:56.568697Z",
     "iopub.status.busy": "2021-11-16T20:24:56.567730Z",
     "iopub.status.idle": "2021-11-16T20:24:56.572793Z",
     "shell.execute_reply": "2021-11-16T20:24:56.573307Z",
     "shell.execute_reply.started": "2021-11-16T20:16:51.547577Z"
    },
    "papermill": {
     "duration": 0.051746,
     "end_time": "2021-11-16T20:24:56.573474",
     "exception": false,
     "start_time": "2021-11-16T20:24:56.521728",
     "status": "completed"
    },
    "tags": []
   },
   "outputs": [
    {
     "data": {
      "text/plain": [
       "(4809, 7)"
      ]
     },
     "execution_count": 8,
     "metadata": {},
     "output_type": "execute_result"
    }
   ],
   "source": [
    "movies.shape"
   ]
  },
  {
   "cell_type": "markdown",
   "id": "35c401f3",
   "metadata": {
    "papermill": {
     "duration": 0.042849,
     "end_time": "2021-11-16T20:24:56.659435",
     "exception": false,
     "start_time": "2021-11-16T20:24:56.616586",
     "status": "completed"
    },
    "tags": []
   },
   "source": [
    "# **handling with missing values**"
   ]
  },
  {
   "cell_type": "code",
   "execution_count": 9,
   "id": "fd2d7cc8",
   "metadata": {
    "execution": {
     "iopub.execute_input": "2021-11-16T20:24:56.749873Z",
     "iopub.status.busy": "2021-11-16T20:24:56.748879Z",
     "iopub.status.idle": "2021-11-16T20:24:57.237527Z",
     "shell.execute_reply": "2021-11-16T20:24:57.238091Z",
     "shell.execute_reply.started": "2021-11-16T20:16:51.556353Z"
    },
    "papermill": {
     "duration": 0.535604,
     "end_time": "2021-11-16T20:24:57.238278",
     "exception": false,
     "start_time": "2021-11-16T20:24:56.702674",
     "status": "completed"
    },
    "tags": []
   },
   "outputs": [
    {
     "name": "stdout",
     "output_type": "stream",
     "text": [
      "movie_id    0\n",
      "title       0\n",
      "overview    3\n",
      "genres      0\n",
      "keywords    0\n",
      "cast        0\n",
      "crew        0\n",
      "dtype: int64\n"
     ]
    },
    {
     "data": {
      "text/plain": [
       "<AxesSubplot:>"
      ]
     },
     "execution_count": 9,
     "metadata": {},
     "output_type": "execute_result"
    },
    {
     "data": {
      "image/png": "[encoded data removed]",
      "text/plain": [
       "<Figure size 432x288 with 1 Axes>"
      ]
     },
     "metadata": {
      "needs_background": "light"
     },
     "output_type": "display_data"
    }
   ],
   "source": [
    "print(movies.isnull().sum())\n",
    "sns.heatmap(movies.isnull(),cbar=False, cmap='viridis')"
   ]
  },
  {
   "cell_type": "code",
   "execution_count": 10,
   "id": "0454a5c7",
   "metadata": {
    "execution": {
     "iopub.execute_input": "2021-11-16T20:24:57.339651Z",
     "iopub.status.busy": "2021-11-16T20:24:57.338943Z",
     "iopub.status.idle": "2021-11-16T20:24:57.343333Z",
     "shell.execute_reply": "2021-11-16T20:24:57.343808Z",
     "shell.execute_reply.started": "2021-11-16T20:16:51.894945Z"
    },
    "papermill": {
     "duration": 0.060023,
     "end_time": "2021-11-16T20:24:57.344015",
     "exception": false,
     "start_time": "2021-11-16T20:24:57.283992",
     "status": "completed"
    },
    "tags": []
   },
   "outputs": [],
   "source": [
    "movies.dropna(inplace=True)"
   ]
  },
  {
   "cell_type": "code",
   "execution_count": 11,
   "id": "d281e15f",
   "metadata": {
    "execution": {
     "iopub.execute_input": "2021-11-16T20:24:57.437812Z",
     "iopub.status.busy": "2021-11-16T20:24:57.436883Z",
     "iopub.status.idle": "2021-11-16T20:24:57.449572Z",
     "shell.execute_reply": "2021-11-16T20:24:57.449020Z",
     "shell.execute_reply.started": "2021-11-16T20:16:51.910300Z"
    },
    "papermill": {
     "duration": 0.060897,
     "end_time": "2021-11-16T20:24:57.449723",
     "exception": false,
     "start_time": "2021-11-16T20:24:57.388826",
     "status": "completed"
    },
    "tags": []
   },
   "outputs": [
    {
     "data": {
      "text/plain": [
       "movie_id    0\n",
       "title       0\n",
       "overview    0\n",
       "genres      0\n",
       "keywords    0\n",
       "cast        0\n",
       "crew        0\n",
       "dtype: int64"
      ]
     },
     "execution_count": 11,
     "metadata": {},
     "output_type": "execute_result"
    }
   ],
   "source": [
    "movies.isnull().sum()"
   ]
  },
  {
   "cell_type": "markdown",
   "id": "3391e825",
   "metadata": {
    "papermill": {
     "duration": 0.044954,
     "end_time": "2021-11-16T20:24:57.539835",
     "exception": false,
     "start_time": "2021-11-16T20:24:57.494881",
     "status": "completed"
    },
    "tags": []
   },
   "source": [
    "we are good "
   ]
  },
  {
   "cell_type": "markdown",
   "id": "0f8e048d",
   "metadata": {
    "papermill": {
     "duration": 0.044594,
     "end_time": "2021-11-16T20:24:57.629817",
     "exception": false,
     "start_time": "2021-11-16T20:24:57.585223",
     "status": "completed"
    },
    "tags": []
   },
   "source": [
    "# **Data Cleaning**"
   ]
  },
  {
   "cell_type": "markdown",
   "id": "ad790cb5",
   "metadata": {
    "papermill": {
     "duration": 0.044646,
     "end_time": "2021-11-16T20:24:57.719729",
     "exception": false,
     "start_time": "2021-11-16T20:24:57.675083",
     "status": "completed"
    },
    "tags": []
   },
   "source": [
    "Safely evaluate an expression node or a Unicode or Latin-1 encoded string containing a Python expression"
   ]
  },
  {
   "cell_type": "code",
   "execution_count": 12,
   "id": "7fd417be",
   "metadata": {
    "execution": {
     "iopub.execute_input": "2021-11-16T20:24:57.815909Z",
     "iopub.status.busy": "2021-11-16T20:24:57.814992Z",
     "iopub.status.idle": "2021-11-16T20:24:57.817523Z",
     "shell.execute_reply": "2021-11-16T20:24:57.817015Z",
     "shell.execute_reply.started": "2021-11-16T20:16:51.927593Z"
    },
    "papermill": {
     "duration": 0.05257,
     "end_time": "2021-11-16T20:24:57.817670",
     "exception": false,
     "start_time": "2021-11-16T20:24:57.765100",
     "status": "completed"
    },
    "tags": []
   },
   "outputs": [],
   "source": [
    "def convert(text):\n",
    "    L = []\n",
    "    for i in ast.literal_eval(text):\n",
    "        L.append(i['name']) \n",
    "    return L"
   ]
  },
  {
   "cell_type": "markdown",
   "id": "6a928e33",
   "metadata": {
    "papermill": {
     "duration": 0.044652,
     "end_time": "2021-11-16T20:24:57.907479",
     "exception": false,
     "start_time": "2021-11-16T20:24:57.862827",
     "status": "completed"
    },
    "tags": []
   },
   "source": [
    "**apply on data**"
   ]
  },
  {
   "cell_type": "code",
   "execution_count": 13,
   "id": "66f6f497",
   "metadata": {
    "execution": {
     "iopub.execute_input": "2021-11-16T20:24:58.001496Z",
     "iopub.status.busy": "2021-11-16T20:24:58.000745Z",
     "iopub.status.idle": "2021-11-16T20:25:01.971626Z",
     "shell.execute_reply": "2021-11-16T20:25:01.970971Z",
     "shell.execute_reply.started": "2021-11-16T20:16:51.939913Z"
    },
    "papermill": {
     "duration": 4.019106,
     "end_time": "2021-11-16T20:25:01.971777",
     "exception": false,
     "start_time": "2021-11-16T20:24:57.952671",
     "status": "completed"
    },
    "tags": []
   },
   "outputs": [],
   "source": [
    "movies['genres'] = movies['genres'].apply(convert)\n",
    "movies['keywords'] = movies['keywords'].apply(convert)\n",
    "movies['cast'] = movies['cast'].apply(convert)"
   ]
  },
  {
   "cell_type": "code",
   "execution_count": 14,
   "id": "daa62851",
   "metadata": {
    "execution": {
     "iopub.execute_input": "2021-11-16T20:25:02.068848Z",
     "iopub.status.busy": "2021-11-16T20:25:02.068109Z",
     "iopub.status.idle": "2021-11-16T20:25:02.086381Z",
     "shell.execute_reply": "2021-11-16T20:25:02.086984Z",
     "shell.execute_reply.started": "2021-11-16T20:16:55.988151Z"
    },
    "papermill": {
     "duration": 0.069811,
     "end_time": "2021-11-16T20:25:02.087172",
     "exception": false,
     "start_time": "2021-11-16T20:25:02.017361",
     "status": "completed"
    },
    "tags": []
   },
   "outputs": [
    {
     "data": {
      "text/html": [
       "<div>\n",
       "<style scoped>\n",
       "    .dataframe tbody tr th:only-of-type {\n",
       "        vertical-align: middle;\n",
       "    }\n",
       "\n",
       "    .dataframe tbody tr th {\n",
       "        vertical-align: top;\n",
       "    }\n",
       "\n",
       "    .dataframe thead th {\n",
       "        text-align: right;\n",
       "    }\n",
       "</style>\n",
       "<table border=\"1\" class=\"dataframe\">\n",
       "  <thead>\n",
       "    <tr style=\"text-align: right;\">\n",
       "      <th></th>\n",
       "      <th>movie_id</th>\n",
       "      <th>title</th>\n",
       "      <th>overview</th>\n",
       "      <th>genres</th>\n",
       "      <th>keywords</th>\n",
       "      <th>cast</th>\n",
       "      <th>crew</th>\n",
       "    </tr>\n",
       "  </thead>\n",
       "  <tbody>\n",
       "    <tr>\n",
       "      <th>0</th>\n",
       "      <td>19995</td>\n",
       "      <td>Avatar</td>\n",
       "      <td>In the 22nd century, a paraplegic Marine is di...</td>\n",
       "      <td>[Action, Adventure, Fantasy, Science Fiction]</td>\n",
       "      <td>[culture clash, future, space war, space colon...</td>\n",
       "      <td>[Sam Worthington, Zoe Saldana, Sigourney Weave...</td>\n",
       "      <td>[{\"credit_id\": \"52fe48009251416c750aca23\", \"de...</td>\n",
       "    </tr>\n",
       "    <tr>\n",
       "      <th>1</th>\n",
       "      <td>285</td>\n",
       "      <td>Pirates of the Caribbean: At World's End</td>\n",
       "      <td>Captain Barbossa, long believed to be dead, ha...</td>\n",
       "      <td>[Adventure, Fantasy, Action]</td>\n",
       "      <td>[ocean, drug abuse, exotic island, east india ...</td>\n",
       "      <td>[Johnny Depp, Orlando Bloom, Keira Knightley, ...</td>\n",
       "      <td>[{\"credit_id\": \"52fe4232c3a36847f800b579\", \"de...</td>\n",
       "    </tr>\n",
       "    <tr>\n",
       "      <th>2</th>\n",
       "      <td>206647</td>\n",
       "      <td>Spectre</td>\n",
       "      <td>A cryptic message from Bond’s past sends him o...</td>\n",
       "      <td>[Action, Adventure, Crime]</td>\n",
       "      <td>[spy, based on novel, secret agent, sequel, mi...</td>\n",
       "      <td>[Daniel Craig, Christoph Waltz, Léa Seydoux, R...</td>\n",
       "      <td>[{\"credit_id\": \"54805967c3a36829b5002c41\", \"de...</td>\n",
       "    </tr>\n",
       "  </tbody>\n",
       "</table>\n",
       "</div>"
      ],
      "text/plain": [
       "   movie_id                                     title  \\\n",
       "0     19995                                    Avatar   \n",
       "1       285  Pirates of the Caribbean: At World's End   \n",
       "2    206647                                   Spectre   \n",
       "\n",
       "                                            overview  \\\n",
       "0  In the 22nd century, a paraplegic Marine is di...   \n",
       "1  Captain Barbossa, long believed to be dead, ha...   \n",
       "2  A cryptic message from Bond’s past sends him o...   \n",
       "\n",
       "                                          genres  \\\n",
       "0  [Action, Adventure, Fantasy, Science Fiction]   \n",
       "1                   [Adventure, Fantasy, Action]   \n",
       "2                     [Action, Adventure, Crime]   \n",
       "\n",
       "                                            keywords  \\\n",
       "0  [culture clash, future, space war, space colon...   \n",
       "1  [ocean, drug abuse, exotic island, east india ...   \n",
       "2  [spy, based on novel, secret agent, sequel, mi...   \n",
       "\n",
       "                                                cast  \\\n",
       "0  [Sam Worthington, Zoe Saldana, Sigourney Weave...   \n",
       "1  [Johnny Depp, Orlando Bloom, Keira Knightley, ...   \n",
       "2  [Daniel Craig, Christoph Waltz, Léa Seydoux, R...   \n",
       "\n",
       "                                                crew  \n",
       "0  [{\"credit_id\": \"52fe48009251416c750aca23\", \"de...  \n",
       "1  [{\"credit_id\": \"52fe4232c3a36847f800b579\", \"de...  \n",
       "2  [{\"credit_id\": \"54805967c3a36829b5002c41\", \"de...  "
      ]
     },
     "execution_count": 14,
     "metadata": {},
     "output_type": "execute_result"
    }
   ],
   "source": [
    "movies.head(3)"
   ]
  },
  {
   "cell_type": "markdown",
   "id": "2a4758fe",
   "metadata": {
    "papermill": {
     "duration": 0.045504,
     "end_time": "2021-11-16T20:25:02.178655",
     "exception": false,
     "start_time": "2021-11-16T20:25:02.133151",
     "status": "completed"
    },
    "tags": []
   },
   "source": [
    "**but we will take only first 3 actors from cast**"
   ]
  },
  {
   "cell_type": "code",
   "execution_count": 15,
   "id": "2264e602",
   "metadata": {
    "execution": {
     "iopub.execute_input": "2021-11-16T20:25:02.283447Z",
     "iopub.status.busy": "2021-11-16T20:25:02.273787Z",
     "iopub.status.idle": "2021-11-16T20:25:02.286424Z",
     "shell.execute_reply": "2021-11-16T20:25:02.285876Z",
     "shell.execute_reply.started": "2021-11-16T20:16:56.007874Z"
    },
    "papermill": {
     "duration": 0.062433,
     "end_time": "2021-11-16T20:25:02.286584",
     "exception": false,
     "start_time": "2021-11-16T20:25:02.224151",
     "status": "completed"
    },
    "tags": []
   },
   "outputs": [],
   "source": [
    "movies['cast'] = movies['cast'].apply(lambda x:x[0:3])"
   ]
  },
  {
   "cell_type": "code",
   "execution_count": 16,
   "id": "822ee5ef",
   "metadata": {
    "execution": {
     "iopub.execute_input": "2021-11-16T20:25:02.384746Z",
     "iopub.status.busy": "2021-11-16T20:25:02.382075Z",
     "iopub.status.idle": "2021-11-16T20:25:02.389963Z",
     "shell.execute_reply": "2021-11-16T20:25:02.390514Z",
     "shell.execute_reply.started": "2021-11-16T20:16:56.028470Z"
    },
    "papermill": {
     "duration": 0.057708,
     "end_time": "2021-11-16T20:25:02.390697",
     "exception": false,
     "start_time": "2021-11-16T20:25:02.332989",
     "status": "completed"
    },
    "tags": []
   },
   "outputs": [
    {
     "data": {
      "text/plain": [
       "0    [Sam Worthington, Zoe Saldana, Sigourney Weaver]\n",
       "1       [Johnny Depp, Orlando Bloom, Keira Knightley]\n",
       "2        [Daniel Craig, Christoph Waltz, Léa Seydoux]\n",
       "3        [Christian Bale, Michael Caine, Gary Oldman]\n",
       "4      [Taylor Kitsch, Lynn Collins, Samantha Morton]\n",
       "Name: cast, dtype: object"
      ]
     },
     "execution_count": 16,
     "metadata": {},
     "output_type": "execute_result"
    }
   ],
   "source": [
    "movies['cast'].head()"
   ]
  },
  {
   "cell_type": "markdown",
   "id": "93727e56",
   "metadata": {
    "papermill": {
     "duration": 0.045511,
     "end_time": "2021-11-16T20:25:02.482694",
     "exception": false,
     "start_time": "2021-11-16T20:25:02.437183",
     "status": "completed"
    },
    "tags": []
   },
   "source": [
    "**fetch director from crew data**"
   ]
  },
  {
   "cell_type": "code",
   "execution_count": 17,
   "id": "f6bcffa1",
   "metadata": {
    "execution": {
     "iopub.execute_input": "2021-11-16T20:25:02.578395Z",
     "iopub.status.busy": "2021-11-16T20:25:02.577406Z",
     "iopub.status.idle": "2021-11-16T20:25:02.581906Z",
     "shell.execute_reply": "2021-11-16T20:25:02.582415Z",
     "shell.execute_reply.started": "2021-11-16T20:16:56.044819Z"
    },
    "papermill": {
     "duration": 0.053903,
     "end_time": "2021-11-16T20:25:02.582591",
     "exception": false,
     "start_time": "2021-11-16T20:25:02.528688",
     "status": "completed"
    },
    "tags": []
   },
   "outputs": [],
   "source": [
    "def fetch_director(text):\n",
    "    L = []\n",
    "    for i in ast.literal_eval(text):\n",
    "        if i['job'] == 'Director':\n",
    "            L.append(i['name'])\n",
    "    return L"
   ]
  },
  {
   "cell_type": "code",
   "execution_count": 18,
   "id": "55b4b6f5",
   "metadata": {
    "execution": {
     "iopub.execute_input": "2021-11-16T20:25:02.679810Z",
     "iopub.status.busy": "2021-11-16T20:25:02.678838Z",
     "iopub.status.idle": "2021-11-16T20:25:06.472732Z",
     "shell.execute_reply": "2021-11-16T20:25:06.473257Z",
     "shell.execute_reply.started": "2021-11-16T20:16:56.056015Z"
    },
    "papermill": {
     "duration": 3.844266,
     "end_time": "2021-11-16T20:25:06.473444",
     "exception": false,
     "start_time": "2021-11-16T20:25:02.629178",
     "status": "completed"
    },
    "tags": []
   },
   "outputs": [],
   "source": [
    "movies['crew'] = movies['crew'].apply(fetch_director)"
   ]
  },
  {
   "cell_type": "code",
   "execution_count": 19,
   "id": "25e9f173",
   "metadata": {
    "execution": {
     "iopub.execute_input": "2021-11-16T20:25:06.569600Z",
     "iopub.status.busy": "2021-11-16T20:25:06.568556Z",
     "iopub.status.idle": "2021-11-16T20:25:06.576037Z",
     "shell.execute_reply": "2021-11-16T20:25:06.576563Z",
     "shell.execute_reply.started": "2021-11-16T20:16:59.896056Z"
    },
    "papermill": {
     "duration": 0.05725,
     "end_time": "2021-11-16T20:25:06.576731",
     "exception": false,
     "start_time": "2021-11-16T20:25:06.519481",
     "status": "completed"
    },
    "tags": []
   },
   "outputs": [
    {
     "data": {
      "text/plain": [
       "0        [James Cameron]\n",
       "1       [Gore Verbinski]\n",
       "2           [Sam Mendes]\n",
       "3    [Christopher Nolan]\n",
       "4       [Andrew Stanton]\n",
       "Name: crew, dtype: object"
      ]
     },
     "execution_count": 19,
     "metadata": {},
     "output_type": "execute_result"
    }
   ],
   "source": [
    "movies['crew'].head()"
   ]
  },
  {
   "cell_type": "markdown",
   "id": "cc6a685d",
   "metadata": {
    "papermill": {
     "duration": 0.046069,
     "end_time": "2021-11-16T20:25:06.669458",
     "exception": false,
     "start_time": "2021-11-16T20:25:06.623389",
     "status": "completed"
    },
    "tags": []
   },
   "source": [
    "**collapse blanks on data**"
   ]
  },
  {
   "cell_type": "code",
   "execution_count": 20,
   "id": "a572d66e",
   "metadata": {
    "execution": {
     "iopub.execute_input": "2021-11-16T20:25:06.769290Z",
     "iopub.status.busy": "2021-11-16T20:25:06.768423Z",
     "iopub.status.idle": "2021-11-16T20:25:06.770968Z",
     "shell.execute_reply": "2021-11-16T20:25:06.771497Z",
     "shell.execute_reply.started": "2021-11-16T20:16:59.905415Z"
    },
    "papermill": {
     "duration": 0.055581,
     "end_time": "2021-11-16T20:25:06.771686",
     "exception": false,
     "start_time": "2021-11-16T20:25:06.716105",
     "status": "completed"
    },
    "tags": []
   },
   "outputs": [],
   "source": [
    "def collapse(L):\n",
    "    L1 = []\n",
    "    for i in L:\n",
    "        L1.append(i.replace(\" \",\"\"))\n",
    "    return L1"
   ]
  },
  {
   "cell_type": "code",
   "execution_count": 21,
   "id": "7257ce3a",
   "metadata": {
    "execution": {
     "iopub.execute_input": "2021-11-16T20:25:06.906342Z",
     "iopub.status.busy": "2021-11-16T20:25:06.870667Z",
     "iopub.status.idle": "2021-11-16T20:25:06.916175Z",
     "shell.execute_reply": "2021-11-16T20:25:06.915549Z",
     "shell.execute_reply.started": "2021-11-16T20:16:59.916094Z"
    },
    "papermill": {
     "duration": 0.096873,
     "end_time": "2021-11-16T20:25:06.916328",
     "exception": false,
     "start_time": "2021-11-16T20:25:06.819455",
     "status": "completed"
    },
    "tags": []
   },
   "outputs": [],
   "source": [
    "movies['cast'] = movies['cast'].apply(collapse)\n",
    "movies['crew'] = movies['crew'].apply(collapse)\n",
    "movies['genres'] = movies['genres'].apply(collapse)\n",
    "movies['keywords'] = movies['keywords'].apply(collapse)"
   ]
  },
  {
   "cell_type": "code",
   "execution_count": 22,
   "id": "70b3fadd",
   "metadata": {
    "execution": {
     "iopub.execute_input": "2021-11-16T20:25:07.029996Z",
     "iopub.status.busy": "2021-11-16T20:25:07.029121Z",
     "iopub.status.idle": "2021-11-16T20:25:07.032695Z",
     "shell.execute_reply": "2021-11-16T20:25:07.033274Z",
     "shell.execute_reply.started": "2021-11-16T20:16:59.968758Z"
    },
    "papermill": {
     "duration": 0.070435,
     "end_time": "2021-11-16T20:25:07.033456",
     "exception": false,
     "start_time": "2021-11-16T20:25:06.963021",
     "status": "completed"
    },
    "tags": []
   },
   "outputs": [
    {
     "data": {
      "text/html": [
       "<div>\n",
       "<style scoped>\n",
       "    .dataframe tbody tr th:only-of-type {\n",
       "        vertical-align: middle;\n",
       "    }\n",
       "\n",
       "    .dataframe tbody tr th {\n",
       "        vertical-align: top;\n",
       "    }\n",
       "\n",
       "    .dataframe thead th {\n",
       "        text-align: right;\n",
       "    }\n",
       "</style>\n",
       "<table border=\"1\" class=\"dataframe\">\n",
       "  <thead>\n",
       "    <tr style=\"text-align: right;\">\n",
       "      <th></th>\n",
       "      <th>movie_id</th>\n",
       "      <th>title</th>\n",
       "      <th>overview</th>\n",
       "      <th>genres</th>\n",
       "      <th>keywords</th>\n",
       "      <th>cast</th>\n",
       "      <th>crew</th>\n",
       "    </tr>\n",
       "  </thead>\n",
       "  <tbody>\n",
       "    <tr>\n",
       "      <th>0</th>\n",
       "      <td>19995</td>\n",
       "      <td>Avatar</td>\n",
       "      <td>In the 22nd century, a paraplegic Marine is di...</td>\n",
       "      <td>[Action, Adventure, Fantasy, ScienceFiction]</td>\n",
       "      <td>[cultureclash, future, spacewar, spacecolony, ...</td>\n",
       "      <td>[SamWorthington, ZoeSaldana, SigourneyWeaver]</td>\n",
       "      <td>[JamesCameron]</td>\n",
       "    </tr>\n",
       "    <tr>\n",
       "      <th>1</th>\n",
       "      <td>285</td>\n",
       "      <td>Pirates of the Caribbean: At World's End</td>\n",
       "      <td>Captain Barbossa, long believed to be dead, ha...</td>\n",
       "      <td>[Adventure, Fantasy, Action]</td>\n",
       "      <td>[ocean, drugabuse, exoticisland, eastindiatrad...</td>\n",
       "      <td>[JohnnyDepp, OrlandoBloom, KeiraKnightley]</td>\n",
       "      <td>[GoreVerbinski]</td>\n",
       "    </tr>\n",
       "    <tr>\n",
       "      <th>2</th>\n",
       "      <td>206647</td>\n",
       "      <td>Spectre</td>\n",
       "      <td>A cryptic message from Bond’s past sends him o...</td>\n",
       "      <td>[Action, Adventure, Crime]</td>\n",
       "      <td>[spy, basedonnovel, secretagent, sequel, mi6, ...</td>\n",
       "      <td>[DanielCraig, ChristophWaltz, LéaSeydoux]</td>\n",
       "      <td>[SamMendes]</td>\n",
       "    </tr>\n",
       "    <tr>\n",
       "      <th>3</th>\n",
       "      <td>49026</td>\n",
       "      <td>The Dark Knight Rises</td>\n",
       "      <td>Following the death of District Attorney Harve...</td>\n",
       "      <td>[Action, Crime, Drama, Thriller]</td>\n",
       "      <td>[dccomics, crimefighter, terrorist, secretiden...</td>\n",
       "      <td>[ChristianBale, MichaelCaine, GaryOldman]</td>\n",
       "      <td>[ChristopherNolan]</td>\n",
       "    </tr>\n",
       "    <tr>\n",
       "      <th>4</th>\n",
       "      <td>49529</td>\n",
       "      <td>John Carter</td>\n",
       "      <td>John Carter is a war-weary, former military ca...</td>\n",
       "      <td>[Action, Adventure, ScienceFiction]</td>\n",
       "      <td>[basedonnovel, mars, medallion, spacetravel, p...</td>\n",
       "      <td>[TaylorKitsch, LynnCollins, SamanthaMorton]</td>\n",
       "      <td>[AndrewStanton]</td>\n",
       "    </tr>\n",
       "  </tbody>\n",
       "</table>\n",
       "</div>"
      ],
      "text/plain": [
       "   movie_id                                     title  \\\n",
       "0     19995                                    Avatar   \n",
       "1       285  Pirates of the Caribbean: At World's End   \n",
       "2    206647                                   Spectre   \n",
       "3     49026                     The Dark Knight Rises   \n",
       "4     49529                               John Carter   \n",
       "\n",
       "                                            overview  \\\n",
       "0  In the 22nd century, a paraplegic Marine is di...   \n",
       "1  Captain Barbossa, long believed to be dead, ha...   \n",
       "2  A cryptic message from Bond’s past sends him o...   \n",
       "3  Following the death of District Attorney Harve...   \n",
       "4  John Carter is a war-weary, former military ca...   \n",
       "\n",
       "                                         genres  \\\n",
       "0  [Action, Adventure, Fantasy, ScienceFiction]   \n",
       "1                  [Adventure, Fantasy, Action]   \n",
       "2                    [Action, Adventure, Crime]   \n",
       "3              [Action, Crime, Drama, Thriller]   \n",
       "4           [Action, Adventure, ScienceFiction]   \n",
       "\n",
       "                                            keywords  \\\n",
       "0  [cultureclash, future, spacewar, spacecolony, ...   \n",
       "1  [ocean, drugabuse, exoticisland, eastindiatrad...   \n",
       "2  [spy, basedonnovel, secretagent, sequel, mi6, ...   \n",
       "3  [dccomics, crimefighter, terrorist, secretiden...   \n",
       "4  [basedonnovel, mars, medallion, spacetravel, p...   \n",
       "\n",
       "                                            cast                crew  \n",
       "0  [SamWorthington, ZoeSaldana, SigourneyWeaver]      [JamesCameron]  \n",
       "1     [JohnnyDepp, OrlandoBloom, KeiraKnightley]     [GoreVerbinski]  \n",
       "2      [DanielCraig, ChristophWaltz, LéaSeydoux]         [SamMendes]  \n",
       "3      [ChristianBale, MichaelCaine, GaryOldman]  [ChristopherNolan]  \n",
       "4    [TaylorKitsch, LynnCollins, SamanthaMorton]     [AndrewStanton]  "
      ]
     },
     "execution_count": 22,
     "metadata": {},
     "output_type": "execute_result"
    }
   ],
   "source": [
    "movies.head()"
   ]
  },
  {
   "cell_type": "markdown",
   "id": "98e8d8e4",
   "metadata": {
    "papermill": {
     "duration": 0.048164,
     "end_time": "2021-11-16T20:25:07.129616",
     "exception": false,
     "start_time": "2021-11-16T20:25:07.081452",
     "status": "completed"
    },
    "tags": []
   },
   "source": [
    "**split 'overview' contet**"
   ]
  },
  {
   "cell_type": "code",
   "execution_count": 23,
   "id": "aef83000",
   "metadata": {
    "execution": {
     "iopub.execute_input": "2021-11-16T20:25:07.236762Z",
     "iopub.status.busy": "2021-11-16T20:25:07.236060Z",
     "iopub.status.idle": "2021-11-16T20:25:07.259000Z",
     "shell.execute_reply": "2021-11-16T20:25:07.259549Z",
     "shell.execute_reply.started": "2021-11-16T20:17:00.000840Z"
    },
    "papermill": {
     "duration": 0.08265,
     "end_time": "2021-11-16T20:25:07.259735",
     "exception": false,
     "start_time": "2021-11-16T20:25:07.177085",
     "status": "completed"
    },
    "tags": []
   },
   "outputs": [],
   "source": [
    "movies['overview'] = movies['overview'].apply(lambda x:x.split())"
   ]
  },
  {
   "cell_type": "code",
   "execution_count": 24,
   "id": "a22d3ca7",
   "metadata": {
    "execution": {
     "iopub.execute_input": "2021-11-16T20:25:07.358049Z",
     "iopub.status.busy": "2021-11-16T20:25:07.357383Z",
     "iopub.status.idle": "2021-11-16T20:25:07.367131Z",
     "shell.execute_reply": "2021-11-16T20:25:07.367741Z",
     "shell.execute_reply.started": "2021-11-16T20:17:00.036598Z"
    },
    "papermill": {
     "duration": 0.060143,
     "end_time": "2021-11-16T20:25:07.367932",
     "exception": false,
     "start_time": "2021-11-16T20:25:07.307789",
     "status": "completed"
    },
    "tags": []
   },
   "outputs": [
    {
     "data": {
      "text/plain": [
       "0    [In, the, 22nd, century,, a, paraplegic, Marin...\n",
       "1    [Captain, Barbossa,, long, believed, to, be, d...\n",
       "2    [A, cryptic, message, from, Bond’s, past, send...\n",
       "3    [Following, the, death, of, District, Attorney...\n",
       "4    [John, Carter, is, a, war-weary,, former, mili...\n",
       "Name: overview, dtype: object"
      ]
     },
     "execution_count": 24,
     "metadata": {},
     "output_type": "execute_result"
    }
   ],
   "source": [
    "movies['overview'].head()"
   ]
  },
  {
   "cell_type": "markdown",
   "id": "ab5b0519",
   "metadata": {
    "papermill": {
     "duration": 0.047763,
     "end_time": "2021-11-16T20:25:07.464357",
     "exception": false,
     "start_time": "2021-11-16T20:25:07.416594",
     "status": "completed"
    },
    "tags": []
   },
   "source": [
    "# **Combine texts in one column **"
   ]
  },
  {
   "cell_type": "code",
   "execution_count": 25,
   "id": "1d09b20c",
   "metadata": {
    "execution": {
     "iopub.execute_input": "2021-11-16T20:25:07.563170Z",
     "iopub.status.busy": "2021-11-16T20:25:07.562445Z",
     "iopub.status.idle": "2021-11-16T20:25:07.759456Z",
     "shell.execute_reply": "2021-11-16T20:25:07.760044Z",
     "shell.execute_reply.started": "2021-11-16T20:17:00.048966Z"
    },
    "papermill": {
     "duration": 0.247943,
     "end_time": "2021-11-16T20:25:07.760238",
     "exception": false,
     "start_time": "2021-11-16T20:25:07.512295",
     "status": "completed"
    },
    "tags": []
   },
   "outputs": [],
   "source": [
    "movies['tags'] = movies['overview'] + movies['genres'] + movies['keywords'] + movies['cast'] + movies['crew']"
   ]
  },
  {
   "cell_type": "code",
   "execution_count": 26,
   "id": "03276752",
   "metadata": {
    "execution": {
     "iopub.execute_input": "2021-11-16T20:25:07.861978Z",
     "iopub.status.busy": "2021-11-16T20:25:07.861258Z",
     "iopub.status.idle": "2021-11-16T20:25:07.869524Z",
     "shell.execute_reply": "2021-11-16T20:25:07.870175Z",
     "shell.execute_reply.started": "2021-11-16T20:17:00.268253Z"
    },
    "papermill": {
     "duration": 0.060782,
     "end_time": "2021-11-16T20:25:07.870369",
     "exception": false,
     "start_time": "2021-11-16T20:25:07.809587",
     "status": "completed"
    },
    "tags": []
   },
   "outputs": [
    {
     "data": {
      "text/plain": [
       "0    [In, the, 22nd, century,, a, paraplegic, Marin...\n",
       "1    [Captain, Barbossa,, long, believed, to, be, d...\n",
       "2    [A, cryptic, message, from, Bond’s, past, send...\n",
       "3    [Following, the, death, of, District, Attorney...\n",
       "4    [John, Carter, is, a, war-weary,, former, mili...\n",
       "Name: tags, dtype: object"
      ]
     },
     "execution_count": 26,
     "metadata": {},
     "output_type": "execute_result"
    }
   ],
   "source": [
    "movies['tags'].head()"
   ]
  },
  {
   "cell_type": "markdown",
   "id": "1985af7d",
   "metadata": {
    "papermill": {
     "duration": 0.047645,
     "end_time": "2021-11-16T20:25:07.966475",
     "exception": false,
     "start_time": "2021-11-16T20:25:07.918830",
     "status": "completed"
    },
    "tags": []
   },
   "source": [
    "**remove old columns and create new data with id and title**"
   ]
  },
  {
   "cell_type": "code",
   "execution_count": 27,
   "id": "1bce3f77",
   "metadata": {
    "execution": {
     "iopub.execute_input": "2021-11-16T20:25:08.065368Z",
     "iopub.status.busy": "2021-11-16T20:25:08.064694Z",
     "iopub.status.idle": "2021-11-16T20:25:08.081834Z",
     "shell.execute_reply": "2021-11-16T20:25:08.081128Z",
     "shell.execute_reply.started": "2021-11-16T20:17:00.286302Z"
    },
    "papermill": {
     "duration": 0.067381,
     "end_time": "2021-11-16T20:25:08.082013",
     "exception": false,
     "start_time": "2021-11-16T20:25:08.014632",
     "status": "completed"
    },
    "tags": []
   },
   "outputs": [
    {
     "data": {
      "text/html": [
       "<div>\n",
       "<style scoped>\n",
       "    .dataframe tbody tr th:only-of-type {\n",
       "        vertical-align: middle;\n",
       "    }\n",
       "\n",
       "    .dataframe tbody tr th {\n",
       "        vertical-align: top;\n",
       "    }\n",
       "\n",
       "    .dataframe thead th {\n",
       "        text-align: right;\n",
       "    }\n",
       "</style>\n",
       "<table border=\"1\" class=\"dataframe\">\n",
       "  <thead>\n",
       "    <tr style=\"text-align: right;\">\n",
       "      <th></th>\n",
       "      <th>movie_id</th>\n",
       "      <th>title</th>\n",
       "      <th>tags</th>\n",
       "    </tr>\n",
       "  </thead>\n",
       "  <tbody>\n",
       "    <tr>\n",
       "      <th>0</th>\n",
       "      <td>19995</td>\n",
       "      <td>Avatar</td>\n",
       "      <td>[In, the, 22nd, century,, a, paraplegic, Marin...</td>\n",
       "    </tr>\n",
       "    <tr>\n",
       "      <th>1</th>\n",
       "      <td>285</td>\n",
       "      <td>Pirates of the Caribbean: At World's End</td>\n",
       "      <td>[Captain, Barbossa,, long, believed, to, be, d...</td>\n",
       "    </tr>\n",
       "    <tr>\n",
       "      <th>2</th>\n",
       "      <td>206647</td>\n",
       "      <td>Spectre</td>\n",
       "      <td>[A, cryptic, message, from, Bond’s, past, send...</td>\n",
       "    </tr>\n",
       "    <tr>\n",
       "      <th>3</th>\n",
       "      <td>49026</td>\n",
       "      <td>The Dark Knight Rises</td>\n",
       "      <td>[Following, the, death, of, District, Attorney...</td>\n",
       "    </tr>\n",
       "    <tr>\n",
       "      <th>4</th>\n",
       "      <td>49529</td>\n",
       "      <td>John Carter</td>\n",
       "      <td>[John, Carter, is, a, war-weary,, former, mili...</td>\n",
       "    </tr>\n",
       "  </tbody>\n",
       "</table>\n",
       "</div>"
      ],
      "text/plain": [
       "   movie_id                                     title  \\\n",
       "0     19995                                    Avatar   \n",
       "1       285  Pirates of the Caribbean: At World's End   \n",
       "2    206647                                   Spectre   \n",
       "3     49026                     The Dark Knight Rises   \n",
       "4     49529                               John Carter   \n",
       "\n",
       "                                                tags  \n",
       "0  [In, the, 22nd, century,, a, paraplegic, Marin...  \n",
       "1  [Captain, Barbossa,, long, believed, to, be, d...  \n",
       "2  [A, cryptic, message, from, Bond’s, past, send...  \n",
       "3  [Following, the, death, of, District, Attorney...  \n",
       "4  [John, Carter, is, a, war-weary,, former, mili...  "
      ]
     },
     "execution_count": 27,
     "metadata": {},
     "output_type": "execute_result"
    }
   ],
   "source": [
    "new = movies.drop(columns=['overview','genres','keywords','cast','crew'])\n",
    "new.head()"
   ]
  },
  {
   "cell_type": "markdown",
   "id": "32efa7d6",
   "metadata": {
    "papermill": {
     "duration": 0.048734,
     "end_time": "2021-11-16T20:25:08.180056",
     "exception": false,
     "start_time": "2021-11-16T20:25:08.131322",
     "status": "completed"
    },
    "tags": []
   },
   "source": [
    "**splitting recovery after combine data on tag column**"
   ]
  },
  {
   "cell_type": "code",
   "execution_count": 28,
   "id": "311987d9",
   "metadata": {
    "execution": {
     "iopub.execute_input": "2021-11-16T20:25:08.288816Z",
     "iopub.status.busy": "2021-11-16T20:25:08.287824Z",
     "iopub.status.idle": "2021-11-16T20:25:08.304910Z",
     "shell.execute_reply": "2021-11-16T20:25:08.305379Z",
     "shell.execute_reply.started": "2021-11-16T20:17:00.310310Z"
    },
    "papermill": {
     "duration": 0.076921,
     "end_time": "2021-11-16T20:25:08.305552",
     "exception": false,
     "start_time": "2021-11-16T20:25:08.228631",
     "status": "completed"
    },
    "tags": []
   },
   "outputs": [
    {
     "data": {
      "text/plain": [
       "0    In the 22nd century, a paraplegic Marine is di...\n",
       "1    Captain Barbossa, long believed to be dead, ha...\n",
       "2    A cryptic message from Bond’s past sends him o...\n",
       "3    Following the death of District Attorney Harve...\n",
       "4    John Carter is a war-weary, former military ca...\n",
       "Name: tags, dtype: object"
      ]
     },
     "execution_count": 28,
     "metadata": {},
     "output_type": "execute_result"
    }
   ],
   "source": [
    "new['tags'] = new['tags'].apply(lambda x: \" \".join(x))\n",
    "new['tags'].head()"
   ]
  },
  {
   "cell_type": "markdown",
   "id": "d31e637e",
   "metadata": {
    "papermill": {
     "duration": 0.048186,
     "end_time": "2021-11-16T20:25:08.402217",
     "exception": false,
     "start_time": "2021-11-16T20:25:08.354031",
     "status": "completed"
    },
    "tags": []
   },
   "source": [
    "# **Vectorizer applying on 'tags'**"
   ]
  },
  {
   "cell_type": "code",
   "execution_count": 29,
   "id": "8ae1112f",
   "metadata": {
    "execution": {
     "iopub.execute_input": "2021-11-16T20:25:08.504730Z",
     "iopub.status.busy": "2021-11-16T20:25:08.504062Z",
     "iopub.status.idle": "2021-11-16T20:25:08.505563Z",
     "shell.execute_reply": "2021-11-16T20:25:08.506101Z",
     "shell.execute_reply.started": "2021-11-16T20:17:00.339392Z"
    },
    "papermill": {
     "duration": 0.055221,
     "end_time": "2021-11-16T20:25:08.506262",
     "exception": false,
     "start_time": "2021-11-16T20:25:08.451041",
     "status": "completed"
    },
    "tags": []
   },
   "outputs": [],
   "source": [
    "lv = TfidfVectorizer(max_features=5000,stop_words='english')"
   ]
  },
  {
   "cell_type": "code",
   "execution_count": 30,
   "id": "5ebf9728",
   "metadata": {
    "execution": {
     "iopub.execute_input": "2021-11-16T20:25:08.606659Z",
     "iopub.status.busy": "2021-11-16T20:25:08.606023Z",
     "iopub.status.idle": "2021-11-16T20:25:09.384933Z",
     "shell.execute_reply": "2021-11-16T20:25:09.385430Z",
     "shell.execute_reply.started": "2021-11-16T20:17:00.348659Z"
    },
    "papermill": {
     "duration": 0.830635,
     "end_time": "2021-11-16T20:25:09.385617",
     "exception": false,
     "start_time": "2021-11-16T20:25:08.554982",
     "status": "completed"
    },
    "tags": []
   },
   "outputs": [],
   "source": [
    "vector = lv.fit_transform(new['tags']).toarray()"
   ]
  },
  {
   "cell_type": "markdown",
   "id": "02d48393",
   "metadata": {
    "papermill": {
     "duration": 0.048629,
     "end_time": "2021-11-16T20:25:09.483353",
     "exception": false,
     "start_time": "2021-11-16T20:25:09.434724",
     "status": "completed"
    },
    "tags": []
   },
   "source": [
    "# **Cosine Similarity**"
   ]
  },
  {
   "cell_type": "markdown",
   "id": "6a813764",
   "metadata": {
    "papermill": {
     "duration": 0.048499,
     "end_time": "2021-11-16T20:25:09.582390",
     "exception": false,
     "start_time": "2021-11-16T20:25:09.533891",
     "status": "completed"
    },
    "tags": []
   },
   "source": [
    "**Cosine Similarity is: **\n",
    "* a measure of similarity between two non-zero vectors of an inner product space\n",
    "* the cosine of the trigonometric angle between two vectors\n",
    "* the inner product of two vectors normalized to length 1\n",
    "* applied to vectors of low and high dimensionality\n",
    "* not a measure of vector magnitude, just the angle between vectors"
   ]
  },
  {
   "cell_type": "markdown",
   "id": "149e8afc",
   "metadata": {
    "papermill": {
     "duration": 0.048815,
     "end_time": "2021-11-16T20:25:09.679997",
     "exception": false,
     "start_time": "2021-11-16T20:25:09.631182",
     "status": "completed"
    },
    "tags": []
   },
   "source": [
    "![](https://images.squarespace-cdn.com/content/v1/5acbdd3a25bf024c12f4c8b4/1601861231635-6FB41TNOOPTVI7RXT7DF/Cosine+Similarity+Radial+Examples.png)"
   ]
  },
  {
   "cell_type": "code",
   "execution_count": 31,
   "id": "d480a203",
   "metadata": {
    "execution": {
     "iopub.execute_input": "2021-11-16T20:25:09.780600Z",
     "iopub.status.busy": "2021-11-16T20:25:09.779925Z",
     "iopub.status.idle": "2021-11-16T20:25:11.923488Z",
     "shell.execute_reply": "2021-11-16T20:25:11.924487Z",
     "shell.execute_reply.started": "2021-11-16T20:17:01.285092Z"
    },
    "papermill": {
     "duration": 2.196118,
     "end_time": "2021-11-16T20:25:11.924798",
     "exception": false,
     "start_time": "2021-11-16T20:25:09.728680",
     "status": "completed"
    },
    "tags": []
   },
   "outputs": [],
   "source": [
    "similarity = cosine_similarity(vector)"
   ]
  },
  {
   "cell_type": "code",
   "execution_count": 32,
   "id": "45598631",
   "metadata": {
    "execution": {
     "iopub.execute_input": "2021-11-16T20:25:12.035115Z",
     "iopub.status.busy": "2021-11-16T20:25:12.034426Z",
     "iopub.status.idle": "2021-11-16T20:25:12.038543Z",
     "shell.execute_reply": "2021-11-16T20:25:12.037805Z",
     "shell.execute_reply.started": "2021-11-16T20:17:03.446974Z"
    },
    "papermill": {
     "duration": 0.058165,
     "end_time": "2021-11-16T20:25:12.038705",
     "exception": false,
     "start_time": "2021-11-16T20:25:11.980540",
     "status": "completed"
    },
    "tags": []
   },
   "outputs": [
    {
     "name": "stdout",
     "output_type": "stream",
     "text": [
      "[[1.         0.02246322 0.01284023 ... 0.00565329 0.00610902 0.        ]\n",
      " [0.02246322 1.         0.0128045  ... 0.01761983 0.         0.        ]\n",
      " [0.01284023 0.0128045  1.         ... 0.01700739 0.         0.        ]\n",
      " ...\n",
      " [0.00565329 0.01761983 0.01700739 ... 1.         0.02899316 0.03339605]\n",
      " [0.00610902 0.         0.         ... 0.02899316 1.         0.01671894]\n",
      " [0.         0.         0.         ... 0.03339605 0.01671894 1.        ]]\n"
     ]
    }
   ],
   "source": [
    "print(similarity)"
   ]
  },
  {
   "cell_type": "markdown",
   "id": "27bd3e2f",
   "metadata": {
    "papermill": {
     "duration": 0.051106,
     "end_time": "2021-11-16T20:25:12.141510",
     "exception": false,
     "start_time": "2021-11-16T20:25:12.090404",
     "status": "completed"
    },
    "tags": []
   },
   "source": [
    "# **Recommender Function**"
   ]
  },
  {
   "cell_type": "markdown",
   "id": "7563bfab",
   "metadata": {
    "papermill": {
     "duration": 0.049376,
     "end_time": "2021-11-16T20:25:12.241414",
     "exception": false,
     "start_time": "2021-11-16T20:25:12.192038",
     "status": "completed"
    },
    "tags": []
   },
   "source": [
    "**it will recommend only 5 movies which have highst 'cosine_similarity' with the choice movie**"
   ]
  },
  {
   "cell_type": "code",
   "execution_count": 33,
   "id": "02f26dbf",
   "metadata": {
    "execution": {
     "iopub.execute_input": "2021-11-16T20:25:12.346686Z",
     "iopub.status.busy": "2021-11-16T20:25:12.346037Z",
     "iopub.status.idle": "2021-11-16T20:25:12.348874Z",
     "shell.execute_reply": "2021-11-16T20:25:12.348364Z",
     "shell.execute_reply.started": "2021-11-16T20:17:03.455969Z"
    },
    "papermill": {
     "duration": 0.057752,
     "end_time": "2021-11-16T20:25:12.349019",
     "exception": false,
     "start_time": "2021-11-16T20:25:12.291267",
     "status": "completed"
    },
    "tags": []
   },
   "outputs": [],
   "source": [
    "def recommend(movie):\n",
    "    index = new[new['title'] == movie].index[0]\n",
    "    distances = sorted(list(enumerate(similarity[index])),reverse=True,key = lambda x: x[1])\n",
    "    for i in distances[1:6]:\n",
    "        print(new.iloc[i[0]].title)"
   ]
  },
  {
   "cell_type": "markdown",
   "id": "3444ad23",
   "metadata": {
    "papermill": {
     "duration": 0.048876,
     "end_time": "2021-11-16T20:25:12.446648",
     "exception": false,
     "start_time": "2021-11-16T20:25:12.397772",
     "status": "completed"
    },
    "tags": []
   },
   "source": [
    "# ***test***"
   ]
  },
  {
   "cell_type": "code",
   "execution_count": 34,
   "id": "aee76e07",
   "metadata": {
    "execution": {
     "iopub.execute_input": "2021-11-16T20:25:12.554984Z",
     "iopub.status.busy": "2021-11-16T20:25:12.554301Z",
     "iopub.status.idle": "2021-11-16T20:25:12.559079Z",
     "shell.execute_reply": "2021-11-16T20:25:12.559572Z",
     "shell.execute_reply.started": "2021-11-16T20:17:03.467244Z"
    },
    "papermill": {
     "duration": 0.064655,
     "end_time": "2021-11-16T20:25:12.559760",
     "exception": false,
     "start_time": "2021-11-16T20:25:12.495105",
     "status": "completed"
    },
    "tags": []
   },
   "outputs": [
    {
     "name": "stdout",
     "output_type": "stream",
     "text": [
      "Quantum of Solace\n",
      "Never Say Never Again\n",
      "Skyfall\n",
      "Thunderball\n",
      "Restless\n"
     ]
    }
   ],
   "source": [
    "recommend('Spectre')"
   ]
  },
  {
   "cell_type": "code",
   "execution_count": 35,
   "id": "b383a34e",
   "metadata": {
    "execution": {
     "iopub.execute_input": "2021-11-16T20:25:12.660834Z",
     "iopub.status.busy": "2021-11-16T20:25:12.660181Z",
     "iopub.status.idle": "2021-11-16T20:25:12.663139Z",
     "shell.execute_reply": "2021-11-16T20:25:12.663744Z"
    },
    "papermill": {
     "duration": 0.055079,
     "end_time": "2021-11-16T20:25:12.663928",
     "exception": false,
     "start_time": "2021-11-16T20:25:12.608849",
     "status": "completed"
    },
    "tags": []
   },
   "outputs": [],
   "source": [
    "# pickle.dump(new,open('movie_list.pkl','wb'))\n",
    "# pickle.dump(similarity,open('similarity.pkl','wb'))"
   ]
  }
 ],
 "metadata": {
  "kernelspec": {
   "display_name": "Python 3",
   "language": "python",
   "name": "python3"
  },
  "language_info": {
   "codemirror_mode": {
    "name": "ipython",
    "version": 3
   },
   "file_extension": ".py",
   "mimetype": "text/x-python",
   "name": "python",
   "nbconvert_exporter": "python",
   "pygments_lexer": "ipython3",
   "version": "3.7.10"
  },
  "papermill": {
   "default_parameters": {},
   "duration": 29.956497,
   "end_time": "2021-11-16T20:25:13.424326",
   "environment_variables": {},
   "exception": null,
   "input_path": "__notebook__.ipynb",
   "output_path": "__notebook__.ipynb",
   "parameters": {},
   "start_time": "2021-11-16T20:24:43.467829",
   "version": "2.3.3"
  }
 },
 "nbformat": 4,
 "nbformat_minor": 5
}
